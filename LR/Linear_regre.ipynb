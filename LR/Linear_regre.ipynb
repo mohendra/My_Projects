{
 "cells": [
  {
   "cell_type": "markdown",
   "metadata": {
    "collapsed": false
   },
   "source": [
    "# Linear Regression "
   ]
  },
  {
   "cell_type": "markdown",
   "metadata": {},
   "source": [
    "Linear regression is the simplest model in Machine Learning. In this class we will learn about how linear regression works. Before that we have to first understand the cost function. "
   ]
  },
  {
   "cell_type": "markdown",
   "metadata": {},
   "source": [
    "**Cost Function:**"
   ]
  },
  {
   "cell_type": "markdown",
   "metadata": {},
   "source": [
    "Let us consider a case where we have size of object vs. price. Let us suppose the size of the object is X and the corresponding price is P"
   ]
  },
  {
   "cell_type": "code",
   "execution_count": null,
   "metadata": {
    "collapsed": false
   },
   "outputs": [],
   "source": [
    "X = [1, 2, 3, 4, 5]"
   ]
  },
  {
   "cell_type": "code",
   "execution_count": null,
   "metadata": {
    "collapsed": true
   },
   "outputs": [],
   "source": [
    "P = [10, 40, 50, 78, 83]"
   ]
  },
  {
   "cell_type": "markdown",
   "metadata": {},
   "source": [
    "This is a linear model. Where price is going up with the size. However, Data may be scattered. Here we want to make a model which will closely predict the price of a objectgiven size  "
   ]
  },
  {
   "cell_type": "markdown",
   "metadata": {},
   "source": [
    "Let us make a **hypothesis** of prediction as **H = aX + b**. Here **a** and **b** are the parameters that will shape the prediction accuracy. Here we will try to understant how this two parameters are going to effect the prediction model."
   ]
  },
  {
   "cell_type": "markdown",
   "metadata": {},
   "source": [
    "**1st case:** Let us consider the value of a = 0 and b = 1.5"
   ]
  },
  {
   "cell_type": "code",
   "execution_count": null,
   "metadata": {
    "collapsed": true
   },
   "outputs": [],
   "source": [
    "import numpy as np"
   ]
  },
  {
   "cell_type": "code",
   "execution_count": null,
   "metadata": {
    "collapsed": false
   },
   "outputs": [],
   "source": [
    "import matplotlib.pyplot as plt\n",
    "from matplotlib.legend_handler import HandlerLine2D"
   ]
  },
  {
   "cell_type": "code",
   "execution_count": null,
   "metadata": {
    "collapsed": true
   },
   "outputs": [],
   "source": [
    "a = 0\n",
    "b = 1.5\n",
    "X = np.array(X)"
   ]
  },
  {
   "cell_type": "code",
   "execution_count": null,
   "metadata": {
    "collapsed": false
   },
   "outputs": [],
   "source": [
    "H = a*X + b # The hypothesis for the prediction model"
   ]
  },
  {
   "cell_type": "code",
   "execution_count": null,
   "metadata": {
    "collapsed": false
   },
   "outputs": [],
   "source": [
    "line1, = plt.plot(X,P, \"ro\", markersize=5, label='Original Data')\n",
    "line2, = plt.plot(X,H, marker ='o', label='Model')\n",
    "plt.legend(handler_map={line1: HandlerLine2D(numpoints=4)})"
   ]
  },
  {
   "cell_type": "markdown",
   "metadata": {},
   "source": [
    "**2nd case:** Let us consider the value of a = 10 and b = 0"
   ]
  },
  {
   "cell_type": "code",
   "execution_count": null,
   "metadata": {
    "collapsed": true
   },
   "outputs": [],
   "source": [
    "a = 10\n",
    "b = 0\n",
    "X = np.array(X)\n",
    "H = a*X + b "
   ]
  },
  {
   "cell_type": "code",
   "execution_count": null,
   "metadata": {
    "collapsed": false
   },
   "outputs": [],
   "source": [
    "line1, = plt.plot(X,P, \"ro\", markersize=5, label='Original Data')\n",
    "line2, = plt.plot(X,H, label='Model')\n",
    "plt.legend(handler_map={line1: HandlerLine2D(numpoints=4)})"
   ]
  },
  {
   "cell_type": "markdown",
   "metadata": {},
   "source": [
    "**3rd Case:** Let us consider the value of a = 10 and b = 20"
   ]
  },
  {
   "cell_type": "code",
   "execution_count": null,
   "metadata": {
    "collapsed": true
   },
   "outputs": [],
   "source": [
    "a = 10\n",
    "b = 20\n",
    "X = np.array(X)\n",
    "H = a*X + b "
   ]
  },
  {
   "cell_type": "code",
   "execution_count": null,
   "metadata": {
    "collapsed": false
   },
   "outputs": [],
   "source": [
    "line1, = plt.plot(X,P, \"ro\", markersize=5, label='Original Data')\n",
    "line2, = plt.plot(X,H, label='Model')\n",
    "plt.legend(handler_map={line1: HandlerLine2D(numpoints=4)})"
   ]
  },
  {
   "cell_type": "markdown",
   "metadata": {},
   "source": [
    "As we can see that our liner hypothesis **H = aX + b** is very much depended on the parameters **a** and **b**. However, the model is not connected with the original data(this was just for demonstration).\n",
    "\n",
    "Here we want to make a model that will be optimized for the original data. i.e. the values of **a** and **b** will be adjusted based on the original data. \n",
    "\n",
    "For this purpose we have to use a error function or **cost fucntion**.\n",
    "\n",
    "In this case we will use a simple cost fucntion, called **square error function**. This function is very popular in solving *regression problems* "
   ]
  },
  {
   "cell_type": "code",
   "execution_count": null,
   "metadata": {
    "collapsed": true
   },
   "outputs": [],
   "source": []
  }
 ],
 "metadata": {
  "kernelspec": {
   "display_name": "Python 3 (Ubuntu Linux)",
   "language": "python",
   "name": "python3"
  },
  "language_info": {
   "codemirror_mode": {
    "name": "ipython",
    "version": 3
   },
   "file_extension": ".py",
   "mimetype": "text/x-python",
   "name": "python",
   "nbconvert_exporter": "python",
   "pygments_lexer": "ipython3",
   "version": "3.4.3+"
  }
 },
 "nbformat": 4,
 "nbformat_minor": 0
}
