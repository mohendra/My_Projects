{
 "cells": [
  {
   "cell_type": "markdown",
   "metadata": {},
   "source": [
    "# Linear regression part-2"
   ]
  },
  {
   "cell_type": "markdown",
   "metadata": {},
   "source": [
    "In our earlier class we have discussed about the cost function and its importance in lineaer regression. The objective in any regression method is to minimize the cost fucntion. In our previous class we did it manually. However we need a optimization algorithm to do it automatically. The gradient descent algorithm is one of the best optimization method for linear regression problem. Here we will try to understant about this algorithm."
   ]
  },
  {
   "cell_type": "code",
   "execution_count": 8,
   "metadata": {
    "collapsed": false
   },
   "outputs": [],
   "source": [
    "import numpy as np\n",
    "from IPython.display import display, Math, Latex\n",
    "import matplotlib.pyplot as plt\n",
    "from matplotlib.legend_handler import HandlerLine2D\n",
    "import pylab as plb\n",
    "from IPython.display import Image, display"
   ]
  },
  {
   "cell_type": "markdown",
   "metadata": {},
   "source": [
    "As we discussed, we choosed the sum of square error as a cost function for this problem. Here our objective is to find the minimum value of **C** by adjusting the parameter **a** and **b**. For simplicity let us consider **a = P**1 and **b = P**2"
   ]
  },
  {
   "cell_type": "code",
   "execution_count": 3,
   "metadata": {
    "collapsed": false
   },
   "outputs": [
    {
     "data": {
      "text/latex": [
       "$$C(a, b) =\\frac 1{2m} \\sum_{i=1}^m (H_i - P_i)^2$$"
      ],
      "text/plain": [
       "<IPython.core.display.Math object>"
      ]
     },
     "metadata": {},
     "output_type": "display_data"
    }
   ],
   "source": [
    "display(Math(r'C(a, b) =\\frac 1{2m} \\sum_{i=1}^m (H_i - P_i)^2')) # cost function "
   ]
  },
  {
   "cell_type": "markdown",
   "metadata": {},
   "source": [
    "## Gradient descent:"
   ]
  },
  {
   "cell_type": "markdown",
   "metadata": {},
   "source": [
    "The equation of gradient descent is as given below"
   ]
  },
  {
   "cell_type": "code",
   "execution_count": 6,
   "metadata": {
    "collapsed": false
   },
   "outputs": [
    {
     "data": {
      "text/latex": [
       "$$P_k = P_k -\\alpha\\frac{\\partial }{\\partial P_k}J(P_1,P_2) \\ ( for \\ k =1 \\ and \\ k =2)$$"
      ],
      "text/plain": [
       "<IPython.core.display.Math object>"
      ]
     },
     "metadata": {},
     "output_type": "display_data"
    }
   ],
   "source": [
    "display(Math(r'P_k = P_k -\\alpha\\frac{\\partial }{\\partial P_k}J(P_1,P_2) \\ ( for \\ k =1 \\ and \\ k =2)'))"
   ]
  },
  {
   "cell_type": "markdown",
   "metadata": {},
   "source": [
    "Here α is the learning rate or the step at which the gradient will descent. For simplicity let us take P2 = 0. The gradient of the cost function J(P1) with respect to P1 can be elastreted as given below. Now if the gradient is positive the value of P1 will decrease(as shown in green arrow). However if the gradient is negative then P1 will increase(as shown in maroon arrow), and eventually it will reach to minima of **J** at a step of α. "
   ]
  },
  {
   "cell_type": "code",
   "execution_count": 13,
   "metadata": {
    "collapsed": false
   },
   "outputs": [
    {
     "data": {
      "image/png": "[encoded data removed]",
      "text/plain": [
       "<IPython.core.display.Image object>"
      ]
     },
     "metadata": {},
     "output_type": "display_data"
    }
   ],
   "source": [
    "display(Image(filename='Linear Regression Gradnt.png'))"
   ]
  },
  {
   "cell_type": "markdown",
   "metadata": {},
   "source": [
    "The learning rate will tells us that how quickly or slowly the optimization process will happen. However their is a trade off between the learning rate and accuracy of the optimization. This can be well explained with this diagram below. Let us suppose one is to step down with a step of two(as shown in red line) then it will not reach the bottom floor. If the step down happen in one steps then it will reach to the bottom floor, however this will take much time compared to two step process. Therefore we have to choose a optimized learning rate that will provide fast and better accuracy.  "
   ]
  },
  {
   "cell_type": "code",
   "execution_count": 14,
   "metadata": {
    "collapsed": false
   },
   "outputs": [
    {
     "data": {
      "image/png": "[encoded data removed]",
      "text/plain": [
       "<IPython.core.display.Image object>"
      ]
     },
     "metadata": {},
     "output_type": "display_data"
    }
   ],
   "source": [
    "display(Image(filename='Learning Rate.png'))"
   ]
  },
  {
   "cell_type": "markdown",
   "metadata": {},
   "source": [
    "Now if we expand the equation of the gradient descent as below."
   ]
  },
  {
   "cell_type": "code",
   "execution_count": 15,
   "metadata": {
    "collapsed": false
   },
   "outputs": [
    {
     "data": {
      "text/latex": [
       "$$P_k = P_k -\\alpha\\frac{\\partial }{\\partial P_k}J(P_1,P_2) \\ ( for \\ k =1 \\ and \\ k =2)$$"
      ],
      "text/plain": [
       "<IPython.core.display.Math object>"
      ]
     },
     "metadata": {},
     "output_type": "display_data"
    }
   ],
   "source": [
    "display(Math(r'P_k = P_k -\\alpha\\frac{\\partial }{\\partial P_k}J(P_1,P_2) \\ ( for \\ k =1 \\ and \\ k =2)'))"
   ]
  },
  {
   "cell_type": "markdown",
   "metadata": {},
   "source": [
    "Where "
   ]
  },
  {
   "cell_type": "code",
   "execution_count": 17,
   "metadata": {
    "collapsed": false
   },
   "outputs": [
    {
     "data": {
      "text/latex": [
       "$$\\frac{\\partial }{\\partial P_k}J(P_1,P_2)$$"
      ],
      "text/plain": [
       "<IPython.core.display.Math object>"
      ]
     },
     "metadata": {},
     "output_type": "display_data"
    }
   ],
   "source": [
    "display(Math(r'\\frac{\\partial }{\\partial P_k}J(P_1,P_2) ='))"
   ]
  },
  {
   "cell_type": "code",
   "execution_count": 25,
   "metadata": {
    "collapsed": false
   },
   "outputs": [
    {
     "data": {
      "text/latex": [
       "$$\\frac{\\partial }{\\partial P_k}J(P_1,P_2) =\\frac{\\partial }{\\partial P_k}\\frac{1}{2m}\\sum_{i =1}^{m}(P_2 + P_1X^i-Y^i)^2$$"
      ],
      "text/plain": [
       "<IPython.core.display.Math object>"
      ]
     },
     "metadata": {},
     "output_type": "display_data"
    }
   ],
   "source": [
    "display(Math(r'\\frac{\\partial }{\\partial P_k}J(P_1,P_2) =\\frac{\\partial }{\\partial P_k}\\frac{1}{2m}\\sum_{i =1}^{m}(P_2 + P_1X^i-Y^i)^2'))"
   ]
  },
  {
   "cell_type": "code",
   "execution_count": 31,
   "metadata": {
    "collapsed": false
   },
   "outputs": [
    {
     "data": {
      "text/latex": [
       "$$\\frac{\\partial }{\\partial P_k}\\frac{1}{2m}\\sum_{i =1}^{m}(P_2 + P_1X^i-Y^i)^2 --> for\\ P_1: \\frac{1}{2m}\\sum_{i =1}^{m}(P_2 + P_1X^i-Y^i)X^i$$"
      ],
      "text/plain": [
       "<IPython.core.display.Math object>"
      ]
     },
     "metadata": {},
     "output_type": "display_data"
    }
   ],
   "source": [
    "display(Math(r'\\frac{\\partial }{\\partial P_k}\\frac{1}{2m}\\sum_{i =1}^{m}(P_2 + P_1X^i-Y^i)^2 --> for\\ P_1: \\frac{1}{2m}\\sum_{i =1}^{m}(P_2 + P_1X^i-Y^i)X^i'))"
   ]
  },
  {
   "cell_type": "code",
   "execution_count": 30,
   "metadata": {
    "collapsed": false
   },
   "outputs": [
    {
     "data": {
      "text/latex": [
       "$$\\frac{\\partial }{\\partial P_k}\\frac{1}{2m}\\sum_{i =1}^{m}(P_2 + P_1X^i-Y^i)^2 -->for\\ P_2: \\frac{1}{2m}\\sum_{i =1}^{m}(P_2 + P_1X^i-Y^i)$$"
      ],
      "text/plain": [
       "<IPython.core.display.Math object>"
      ]
     },
     "metadata": {},
     "output_type": "display_data"
    }
   ],
   "source": [
    "display(Math(r'\\frac{\\partial }{\\partial P_k}\\frac{1}{2m}\\sum_{i =1}^{m}(P_2 + P_1X^i-Y^i)^2 -->for\\ P_2: \\frac{1}{2m}\\sum_{i =1}^{m}(P_2 + P_1X^i-Y^i)'))"
   ]
  },
  {
   "cell_type": "code",
   "execution_count": null,
   "metadata": {
    "collapsed": true
   },
   "outputs": [],
   "source": []
  }
 ],
 "metadata": {
  "kernelspec": {
   "display_name": "Python3 (Tensorflow3)",
   "language": "python",
   "name": "tensorflow3"
  },
  "language_info": {
   "codemirror_mode": {
    "name": "ipython",
    "version": 3
   },
   "file_extension": ".py",
   "mimetype": "text/x-python",
   "name": "python",
   "nbconvert_exporter": "python",
   "pygments_lexer": "ipython3",
   "version": "3.5.3"
  }
 },
 "nbformat": 4,
 "nbformat_minor": 2
}
