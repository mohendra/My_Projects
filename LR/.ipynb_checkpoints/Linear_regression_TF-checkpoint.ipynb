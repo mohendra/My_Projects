{
 "cells": [
  {
   "cell_type": "code",
   "execution_count": 5,
   "metadata": {
    "collapsed": false
   },
   "outputs": [
    {
     "name": "stdout",
     "output_type": "stream",
     "text": [
      "Initial weight: 0.0, Bias: 0.0, Loss: 17173.0 \n",
      "Final weight: 18.4, Bias: -2.99999, Loss: 163.2 \n",
      "The calculated test output for test input  2 is =  33.8\n"
     ]
    },
    {
     "data": {
      "image/png": "[encoded data removed]",
      "text/plain": [
       "<matplotlib.figure.Figure at 0x119d29be0>"
      ]
     },
     "metadata": {},
     "output_type": "display_data"
    }
   ],
   "source": [
    "'''This is a modified version of Google's TensorFlow(TF) Tutorial. Here you will learn about the TF variable, placeholder and linear optimization model.\n",
    "By Dr. Mohendra Roy\n",
    "'''\n",
    "import numpy as np\n",
    "import tensorflow as tf\n",
    "import os\n",
    "os.environ['TF_CPP_MIN_LOG_LEVEL'] = '2'\n",
    "sess = tf.Session()\n",
    "\n",
    "\n",
    "import matplotlib.pyplot as plt\n",
    "from matplotlib.legend_handler import HandlerLine2D\n",
    "import pylab as plb\n",
    "from IPython.display import Image, display\n",
    "\n",
    "\n",
    "\n",
    "# initial variable for weights and biases\n",
    "w = tf.Variable(0.0)\n",
    "b = tf.Variable(0.0)\n",
    "init = tf.global_variables_initializer()  # handler to initiate the global variable\n",
    "sess.run(init)\n",
    "wini = sess.run(w)\n",
    "bini = sess.run(b)\n",
    "\n",
    "# initial placeholder for input data and labels\n",
    "x = tf.placeholder(tf.float32)  # for input data\n",
    "y = tf.placeholder(tf.float32)  # for label\n",
    "\n",
    "# linear model\n",
    "lm = x*w + b\n",
    "\n",
    "# Setting the desired goal\n",
    "loss = tf.reduce_sum(tf.square(lm - y))\n",
    "lossini = sess.run(loss, {x: [1, 2, 3, 4, 5], y: [10, 40, 50, 78, 83]})\n",
    "\n",
    "''' Our desired goal is to reduce the difference between the training input and training label '''\n",
    "\n",
    "''' To achieve this we will use a optimization method using the Gradient Descent Optimizer algorithm '''\n",
    "\n",
    "# Optimization with Gradient Descent Optimizer\n",
    "\n",
    "op = tf.train.GradientDescentOptimizer(0.01)  # The number here is the step at which the optimization will descent\n",
    "ob = op.minimize(loss)  # The objective(ob) is to minimize the loss\n",
    "\n",
    "''' Our main objective is to reduce the loss, i.e. the difference between the training input and label '''\n",
    "\n",
    "''' Now we will  train our model in a loop to get the minimum loss by updating weight and biases '''\n",
    "\n",
    "# Training loop\n",
    "for i in range(1000):\n",
    "    sess.run(ob, {x: [1, 2, 3, 4, 5], y: [10, 40, 50, 78, 83]})\n",
    "\n",
    "\n",
    "wfi = sess.run(w)  # final weight after training\n",
    "bfi = sess.run(b)  # final bias after training\n",
    "lossfi = sess.run(loss, {x: [1, 2, 3, 4, 5], y: [10, 40, 50, 78, 83]})  # loss after the training\n",
    "\n",
    "print(\"Initial weight: %s, Bias: %s, Loss: %s \" % (wini, bini, lossini))  # The weight, bias and loss before training\n",
    "\n",
    "print(\"Final weight: %s, Bias: %s, Loss: %s \" % (wfi, bfi, lossfi))  # The weight, bias and loss after training\n",
    "\n",
    "''' Till this we just train our 1st linear model. However we want to test the model too  '''\n",
    "\n",
    "\n",
    "# Testing of the model\n",
    "xin = 2\n",
    "y = sess.run(lm, {x: xin})\n",
    "print(\"The calculated test output for test input  %x is = \" % xin, y)\n",
    "X = np.array([1, 2, 3, 4, 5]) \n",
    "Y = np.array([10, 40, 50, 78, 83])\n",
    "Hf = wfi*X + bfi \n",
    "line1, = plt.plot(X,Y, \"ro\", markersize=5, label='Original Data')\n",
    "line2, = plt.plot(X,Hf, label='Optimised Model')\n",
    "plt.title('X vs Y')\n",
    "plt.xlabel('X')\n",
    "plt.ylabel('Y')\n",
    "plt.legend(handler_map={line1: HandlerLine2D(numpoints=4)})\n",
    "plt.show()"
   ]
  },
  {
   "cell_type": "code",
   "execution_count": null,
   "metadata": {
    "collapsed": true
   },
   "outputs": [],
   "source": []
  }
 ],
 "metadata": {
  "kernelspec": {
   "display_name": "Python3 (Tensorflow3)",
   "language": "python",
   "name": "tensorflow3"
  },
  "language_info": {
   "codemirror_mode": {
    "name": "ipython",
    "version": 3
   },
   "file_extension": ".py",
   "mimetype": "text/x-python",
   "name": "python",
   "nbconvert_exporter": "python",
   "pygments_lexer": "ipython3",
   "version": "3.5.3"
  }
 },
 "nbformat": 4,
 "nbformat_minor": 2
}
