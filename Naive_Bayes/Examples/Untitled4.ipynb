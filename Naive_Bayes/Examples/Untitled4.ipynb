{
 "cells": [
  {
   "cell_type": "code",
   "execution_count": 7,
   "metadata": {
    "collapsed": false
   },
   "outputs": [
    {
     "name": "stdout",
     "output_type": "stream",
     "text": [
      "Please input the number of row of the 1st matrix = 2\n",
      "Please input the number of column of the 1st matrix = 2\n",
      "('insert', 1, 'row & ', 1, 'coulmn')\n",
      "1\n",
      "('insert', 1, 'row & ', 2, 'coulmn')\n",
      "2\n",
      "('insert', 2, 'row & ', 1, 'coulmn')\n",
      "3\n",
      "('insert', 2, 'row & ', 2, 'coulmn')\n",
      "4\n",
      "[[1 2]\n",
      " [3 4]]\n",
      "Please input the row of the 2nd matrix2\n",
      "Please input the column of the 2nd matrix2\n",
      "('insert', 1, 'row and ', 1, 'coulmn')\n",
      "1\n",
      "('insert', 1, 'row and ', 2, 'coulmn')\n",
      "2\n",
      "('insert', 2, 'row and ', 1, 'coulmn')\n",
      "3\n",
      "('insert', 2, 'row and ', 2, 'coulmn')\n",
      "4\n",
      "[[1 2]\n",
      " [3 4]]\n",
      "[[ 7 10]\n",
      " [15 22]]\n"
     ]
    }
   ],
   "source": [
    "import numpy as np\n",
    "\n",
    "n=input('Please input the number of row of the 1st matrix = ')\n",
    "m=input('Please input the number of column of the 1st matrix = ')\n",
    "\n",
    "## Here is the code for inseting the 1st matrix\n",
    "\n",
    "mat1=[]\n",
    "for i in range(0,n):\n",
    "    mat1.append([])\n",
    "    for j in range(0,m):\n",
    "        print('insert',i+1, 'row & ', j+1, 'coulmn')\n",
    "        x=input()\n",
    "        mat1[i].append(x)\n",
    "mat1=np.array(mat1)\n",
    "print(mat1)\n",
    "\n",
    "## Here is the code for the 2nd Matrix\n",
    "\n",
    "p=input('Please input the row of the 2nd matrix')\n",
    "q=input('Please input the column of the 2nd matrix')\n",
    "mat2=[]\n",
    "for i in range(0,p):\n",
    "    mat2.append([])\n",
    "    for j in range(0,q):\n",
    "        print('insert',i+1,'row and ', j+1, 'coulmn')\n",
    "        y=input()\n",
    "        mat2[i].append(y)\n",
    "mat2=np.array(mat2)\n",
    "print(mat2)\n",
    "\n",
    "\n",
    "## Here is the code for the matrix multiplication\n",
    "z=0\n",
    "mul=[]\n",
    "for i in range(0,m):\n",
    "    mul.append([])\n",
    "    for j in range(0,q):\n",
    "        for k in range(0,p):\n",
    "            z=z+(mat1[i,k]*mat2[k,j])\n",
    "        mul[i].append(z)\n",
    "        z=0\n",
    "mul=np.array(mul)\n",
    "print(mul)\n",
    "            \n",
    "\n"
   ]
  },
  {
   "cell_type": "code",
   "execution_count": 5,
   "metadata": {
    "collapsed": false
   },
   "outputs": [
    {
     "name": "stdout",
     "output_type": "stream",
     "text": [
      "[[1 2]\n",
      " [3 4]]\n"
     ]
    }
   ],
   "source": [
    "print mat2"
   ]
  },
  {
   "cell_type": "code",
   "execution_count": null,
   "metadata": {
    "collapsed": true
   },
   "outputs": [],
   "source": []
  }
 ],
 "metadata": {
  "kernelspec": {
   "display_name": "Python 2",
   "language": "python",
   "name": "python2"
  },
  "language_info": {
   "codemirror_mode": {
    "name": "ipython",
    "version": 2
   },
   "file_extension": ".py",
   "mimetype": "text/x-python",
   "name": "python",
   "nbconvert_exporter": "python",
   "pygments_lexer": "ipython2",
   "version": "2.7.10"
  }
 },
 "nbformat": 4,
 "nbformat_minor": 0
}
