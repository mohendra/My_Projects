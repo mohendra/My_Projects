{
 "cells": [
  {
   "cell_type": "code",
   "execution_count": null,
   "metadata": {
    "collapsed": false
   },
   "outputs": [],
   "source": [
    "## This code is to input the 1st Matrix\n",
    "import numpy as np # this code will import the numpy library as 'np'\n",
    "\n",
    "m = int(input('number of rows, m = ')) # this will ask to input the number of rows of the 1st matrix\n",
    "n = int(input('number of columns, n = '))# This will ask to input the number of column of the 1st matrix\n",
    "matrix = [] # innitiation of the 1st matrix as blank matrix\n",
    "for i in range(0,m): # for i from 0 to m (for the row)\n",
    "    matrix.append([]) # this 'append' method helps to insert the value or variable into the existing vector\n",
    "    for j in range(0,n): # for the coulomb of the 1st matrix\n",
    "        print ('entry in row: ',i+1,' column: ',j+1) # to display the number of raw and coulom for the input value\n",
    "        x= int(input()) # to store the input value\n",
    "        matrix[i].append(x) #This will append the value of x in the \"matrix\" array\n",
    "        matr=np.array(matrix) # \".array\" objects support the ordinary sequence operations of indexing, slicing, concatenation, and multiplication.\n",
    "print matr\n",
    "\n",
    "## This code is to input the 2nd Matrix\n",
    "mm = int(input('number of rows, m = '))\n",
    "nn = int(input('number of columns, n = '))\n",
    "matrix = []\n",
    "for i in range(0,mm):\n",
    "    matrix.append([])\n",
    "    for j in range(0,nn):\n",
    "        print ('entry in row: ',i+1,' column: ',j+1)\n",
    "        x= int(input())\n",
    "        matrix[i].append(x)\n",
    "        matr2=np.array(matrix)\n",
    "print matr2\n",
    "p=mm\n",
    "q=nn\n",
    "z=0\n",
    "\n",
    "\n",
    "\n",
    "\n",
    "## This code is to calculate the multiplication \n",
    "\n",
    "if n != mm:\n",
    "    print ('Matrix dimentions not match')\n",
    "    \n",
    "else:\n",
    "\n",
    "    pro=[]\n",
    "    for i in range(0,m):\n",
    "        pro.append([])\n",
    "        for j in range(0,q):\n",
    "            for k in range (0,p):\n",
    "                z=z+(matr[i,k]*matr[k,j])\n",
    "            pro[i].append(z)\n",
    "            z=0\n",
    "            fimtr=np.array(pro)\n",
    "    print fimtr\n"
   ]
  },
  {
   "cell_type": "code",
   "execution_count": null,
   "metadata": {
    "collapsed": true
   },
   "outputs": [],
   "source": []
  }
 ],
 "metadata": {
  "kernelspec": {
   "display_name": "Python 2",
   "language": "python",
   "name": "python2"
  },
  "language_info": {
   "codemirror_mode": {
    "name": "ipython",
    "version": 2
   },
   "file_extension": ".py",
   "mimetype": "text/x-python",
   "name": "python",
   "nbconvert_exporter": "python",
   "pygments_lexer": "ipython2",
   "version": "2.7.10"
  }
 },
 "nbformat": 4,
 "nbformat_minor": 0
}
