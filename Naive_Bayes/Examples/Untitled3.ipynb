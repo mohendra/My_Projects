{
 "cells": [
  {
   "cell_type": "code",
   "execution_count": 25,
   "metadata": {
    "collapsed": false
   },
   "outputs": [
    {
     "name": "stdout",
     "output_type": "stream",
     "text": [
      "please insert the number of raws for the 1st matrix = 2\n",
      "Please input the number or coloum of the 1st matrix = 2\n",
      "('insert ', 1, 'row & ', 1, ' column')\n",
      "1\n",
      "('insert ', 1, 'row & ', 2, ' column')\n",
      "2\n",
      "('insert ', 2, 'row & ', 1, ' column')\n",
      "3\n",
      "('insert ', 2, 'row & ', 2, ' column')\n",
      "4\n",
      "[[1 2]\n",
      " [3 4]]\n"
     ]
    }
   ],
   "source": [
    "import numpy as np\n",
    "\n",
    "\n",
    "## code to insert the 1st matrix\n",
    "\n",
    "m=input('please insert the number of raws for the 1st matrix = ')\n",
    "n=input('Please input the number or coloum of the 1st matrix = ')\n",
    "\n",
    "Mat1=[]\n",
    "for i in range(0,m):\n",
    "    Mat1.append([])\n",
    "    for j in range(0,n):\n",
    "        print('insert ', i+1, 'row & ', j+1, ' column')\n",
    "        x=input()\n",
    "        Mat1[i].append(x)\n",
    "Mat1=np.array(Mat1)\n",
    "print(Mat1)\n",
    "        "
   ]
  },
  {
   "cell_type": "code",
   "execution_count": 26,
   "metadata": {
    "collapsed": false
   },
   "outputs": [
    {
     "name": "stdout",
     "output_type": "stream",
     "text": [
      "please input the row of the 2nd matrix2\n",
      "please input the coloumn of the 2nd matrix2\n",
      "('insert insert ', 1, 'row & ', 1, ' column')\n",
      "1\n",
      "('insert insert ', 1, 'row & ', 2, ' column')\n",
      "2\n",
      "('insert insert ', 2, 'row & ', 1, ' column')\n",
      "3\n",
      "('insert insert ', 2, 'row & ', 2, ' column')\n",
      "4\n",
      "[[1 2]\n",
      " [3 4]]\n"
     ]
    }
   ],
   "source": [
    "p=input('please input the row of the 2nd matrix')\n",
    "q=input('please input the coloumn of the 2nd matrix')\n",
    "Mat2=[]\n",
    "for i in range(0,p):\n",
    "    Mat2.append([])\n",
    "    for j in range(0,q):\n",
    "        print('insert ''insert ', i+1, 'row & ', j+1, ' column')\n",
    "        y=input()\n",
    "        Mat2[i].append(y)\n",
    "Mat2=np.array(Mat2)\n",
    "print(Mat2)\n",
    "        \n"
   ]
  },
  {
   "cell_type": "code",
   "execution_count": 29,
   "metadata": {
    "collapsed": false
   },
   "outputs": [
    {
     "name": "stdout",
     "output_type": "stream",
     "text": [
      "[[ 7 10]\n",
      " [15 22]]\n"
     ]
    }
   ],
   "source": [
    "z=0\n",
    "Mul=[]\n",
    "for i in range(0,m):\n",
    "    Mul.append([])\n",
    "    for j in range(0,q):\n",
    "        for k in range(0,p):\n",
    "            z=z+(Mat1[i,k]*Mat2[k,j])\n",
    "        Mul[i].append(z)\n",
    "        z=0\n",
    "Mul=np.array(Mul)\n",
    "print(Mul)\n",
    "        \n",
    "            "
   ]
  },
  {
   "cell_type": "code",
   "execution_count": null,
   "metadata": {
    "collapsed": true
   },
   "outputs": [],
   "source": []
  }
 ],
 "metadata": {
  "kernelspec": {
   "display_name": "Python 2",
   "language": "python",
   "name": "python2"
  },
  "language_info": {
   "codemirror_mode": {
    "name": "ipython",
    "version": 2
   },
   "file_extension": ".py",
   "mimetype": "text/x-python",
   "name": "python",
   "nbconvert_exporter": "python",
   "pygments_lexer": "ipython2",
   "version": "2.7.10"
  }
 },
 "nbformat": 4,
 "nbformat_minor": 0
}
