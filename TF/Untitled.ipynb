{
 "cells": [
  {
   "cell_type": "code",
   "execution_count": null,
   "metadata": {
    "collapsed": true
   },
   "outputs": [],
   "source": [
    "'''This is a modified version of Google's TensorFlow(TF) Tutorial. Here you will learn about the TF variable, placeholder and linear optimization model.\n",
    "By Dr. Mohendra Roy\n",
    "'''\n",
    "\n",
    "import tensorflow as tf\n",
    "import os\n",
    "os.environ['TF_CPP_MIN_LOG_LEVEL'] = '2'\n",
    "sess = tf.Session()\n",
    "\n",
    "# initial variable for weights and biases\n",
    "w = tf.Variable(3.0)\n",
    "b = tf.Variable(4.0)\n",
    "init = tf.global_variables_initializer()  # handler to initiate the global variable\n",
    "sess.run(init)\n",
    "wini = sess.run(w)\n",
    "bini = sess.run(b)\n",
    "\n",
    "# initial placeholder for input data and labels\n",
    "x = tf.placeholder(tf.float32)  # for input data\n",
    "y = tf.placeholder(tf.float32)  # for label\n",
    "\n",
    "# linear model\n",
    "lm = x*w + b\n",
    "\n",
    "# Setting the desired goal\n",
    "loss = tf.reduce_sum(tf.square(lm - y))\n",
    "lossini = sess.run(loss, {x: [1, 2, 3], y: [0, -1, -2]})\n",
    "\n",
    "''' Our desired goal is to reduce the difference between the training input and training label '''\n",
    "\n",
    "''' To achieve this we will use a optimization method using the Gradient Descent Optimizer algorithm '''\n",
    "\n",
    "# Optimization with Gradient Descent Optimizer\n",
    "\n",
    "op = tf.train.GradientDescentOptimizer(0.01)  # The number here is the step at which the optimization will descent\n",
    "ob = op.minimize(loss)  # The objective(ob) is to minimize the loss\n",
    "\n",
    "''' Our main objective is to reduce the loss, i.e. the difference between the training input and label '''\n",
    "\n",
    "''' Now we will  train our model in a loop to get the minimum loss by updating weight and biases '''\n",
    "\n",
    "# Training loop\n",
    "for i in range(1000):\n",
    "    sess.run(ob, {x: [1, 2, 3], y: [0, -1, -2]})\n",
    "\n",
    "\n",
    "wfi = sess.run(w)  # final weight after training\n",
    "bfi = sess.run(b)  # final bias after training\n",
    "lossfi = sess.run(loss, {x: [1, 2, 3], y: [0, -1, -2]})  # loss after the training\n",
    "\n",
    "print(\"Initial weight: %s, Bias: %s, Loss: %s \" % (wini, bini, lossini))  # The weight, bias and loss before training\n",
    "\n",
    "print(\"Final weight: %s, Bias: %s, Loss: %s \" % (wfi, bfi, lossfi))  # The weight, bias and loss after training\n",
    "\n",
    "''' Till this we just train our 1st linear model. However we want to test the model too  '''\n",
    "\n",
    "\n",
    "# Testing of the model\n",
    "xin = 2\n",
    "y = sess.run(lm, {x: xin})\n",
    "print(\"The calculated test output for test input  %x is = \" % xin, y)"
   ]
  },
  {
   "cell_type": "code",
   "execution_count": null,
   "metadata": {
    "collapsed": true
   },
   "outputs": [],
   "source": []
  }
 ],
 "metadata": {
  "kernelspec": {
   "display_name": "Python 3",
   "language": "python",
   "name": "python3"
  }
 },
 "nbformat": 4,
 "nbformat_minor": 2
}
