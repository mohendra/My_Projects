{
  "cells": [
    {
      "cell_type": "code",
      "source": [
        "import numpy as np\n",
        "import matplotlib.pyplot as plt"
      ],
      "outputs": [],
      "execution_count": 18,
      "metadata": {}
    },
    {
      "cell_type": "code",
      "source": [
        "def logistic(x):\n",
        "    return (1.0 / (1 + np.exp(-x)))"
      ],
      "outputs": [],
      "execution_count": 19,
      "metadata": {}
    },
    {
      "cell_type": "code",
      "source": [
        "training_data = np.array([[1,1,1,0,0,0],[1,1,1,0,0,0],[1,1,1,0,0,0],[1,1,1,0,0,0], [1,1,1,0,0,0],[1,1,0,0,0,0]])\n",
        "[r,c] = np.shape(training_data)"
      ],
      "outputs": [],
      "execution_count": 20,
      "metadata": {}
    },
    {
      "cell_type": "code",
      "source": [
        "num_visible = c \n",
        "num_hidden = 3\n",
        "np_rng = np.random.RandomState(1234)\n",
        "weights = np.asarray(np_rng.uniform(low = -0.1 * np.sqrt(6. / (num_hidden + num_visible)), high=0.1 * np.sqrt(6. / (num_hidden + num_visible)), size=(num_visible, num_hidden)))\n",
        "#weights = np.insert(weights, 0, 0, axis = 0)\n",
        "#weights = np.insert(weights, 0, 0, axis = 1)\n",
        "W = weights # this is weight including the bias.\n",
        " #data = np.insert(training_data, 0, 1, axis = 1)  # Insert bias units of 1 into the first column.\n",
        "data = training_data"
      ],
      "outputs": [],
      "execution_count": 21,
      "metadata": {}
    },
    {
      "cell_type": "code",
      "source": [
        "max_epochs = 100000 \n",
        "learning_rate = 0.001\n",
        "Error_store = []\n",
        "for epoch in range(max_epochs):\n",
        "        # Clamp to the data and sample from the hidden units. \n",
        "        # (This is the \"positive CD phase\", aka the reality phase.)\n",
        "        pos_hidden_activations = np.dot(data, weights)\n",
        "        pos_hidden_probs = logistic(pos_hidden_activations)\n",
        "        #pos_hidden_probs[:,0] = 1 # Fix the bias unit\n",
        "        pos_hidden_states = pos_hidden_probs > np.random.rand(r, num_hidden)\n",
        "          # Note that we're using the activation *probabilities* of the hidden states, not the hidden states       \n",
        "          # themselves, when computing associations. We could also use the states; see section 3 of Hinton's \n",
        "          # \"A Practical Guide to Training Restricted Boltzmann Machines\" for more.\n",
        "        pos_associations = np.dot(data.T, pos_hidden_probs)\n",
        "\n",
        "          # Reconstruct the visible units and sample again from the hidden units.\n",
        "          # (This is the \"negative CD phase\", aka the daydreaming phase.)\n",
        "        neg_visible_activations = np.dot(pos_hidden_states, weights.T)\n",
        "        neg_visible_probs = logistic(neg_visible_activations)\n",
        "        #neg_visible_probs[:,0] = 1 # Fix the bias unit.\n",
        "        neg_hidden_activations = np.dot(neg_visible_probs, weights)\n",
        "        neg_hidden_probs = logistic(neg_hidden_activations)\n",
        "          # Note, again, that we're using the activation *probabilities* when computing associations, not the states \n",
        "          # themselves.\n",
        "        neg_associations = np.dot(neg_visible_probs.T, neg_hidden_probs)\n",
        "\n",
        "          # Update weights.\n",
        "        weights += learning_rate * ((pos_associations - neg_associations) / r)\n",
        "        \n",
        "        error = np.sum((data - neg_visible_probs) ** 2) # this error is for the display purpose only \n",
        "        Error_store.append(error)"
      ],
      "outputs": [],
      "execution_count": 22,
      "metadata": {}
    },
    {
      "cell_type": "code",
      "source": [
        "plt.plot(Error_store)\n",
        "plt.show()"
      ],
      "outputs": [
        {
          "output_type": "display_data",
          "data": {
            "text/plain": [
              "<Figure size 432x288 with 1 Axes>"
            ],
            "image/png": "[encoded data removed]"
          },
          "metadata": {
            "needs_background": "light"
          }
        }
      ],
      "execution_count": 23,
      "metadata": {
        "collapsed": false,
        "outputHidden": false,
        "inputHidden": false
      }
    },
    {
      "cell_type": "code",
      "source": [],
      "outputs": [],
      "execution_count": null,
      "metadata": {}
    }
  ],
  "metadata": {
    "kernelspec": {
      "name": "python3",
      "language": "python",
      "display_name": "Python 3"
    },
    "language_info": {
      "name": "python",
      "version": "3.6.5",
      "mimetype": "text/x-python",
      "codemirror_mode": {
        "name": "ipython",
        "version": 3
      },
      "pygments_lexer": "ipython3",
      "nbconvert_exporter": "python",
      "file_extension": ".py"
    },
    "kernel_info": {
      "name": "python3"
    },
    "nteract": {
      "version": "0.12.1"
    }
  },
  "nbformat": 4,
  "nbformat_minor": 2
}