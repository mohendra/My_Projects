{
  "cells": [
    {
      "cell_type": "code",
      "source": [
        "import numpy as np\n",
        "import copy\n",
        "#from sklearn.datasets import fetch_mldata # This is to import MNIST dataset\n",
        "import math \n",
        "import matplotlib.pyplot as plt"
      ],
      "outputs": [],
      "execution_count": 1,
      "metadata": {}
    },
    {
      "cell_type": "code",
      "source": [
        "def Layer(Input, Output_Nodes):\n",
        "    [r,c] = np.shape(Input)\n",
        "    limit = 1 / math.sqrt(10)\n",
        "            #self.W  = np.random.uniform(-limit, limit, (self.input_shape[0], self.n_units))\n",
        "        #self.w0 = np.zeros((1, self.n_units))\n",
        "        \n",
        "    Weights = np.random.uniform(-limit,limit,(c, Output_Nodes ))\n",
        "    Bias = np.zeros((1, Output_Nodes))\n",
        "    Layer = [Weights,Bias]\n",
        "    \n",
        "    return Layer"
      ],
      "outputs": [],
      "execution_count": 2,
      "metadata": {}
    },
    {
      "cell_type": "code",
      "source": [
        "def add_Layers(Input_Layer, New_Layer_Size):\n",
        "    Layers_Together = []\n",
        "    Input_Layer_weight = Input_Layer[0]\n",
        "    New_Layer = Layer(Input_Layer_weight, New_Layer_Size)\n",
        "    \n",
        "    Layers_Together.append(Input_Layer)\n",
        "    Layers_Together.append(New_Layer)\n",
        "    \n",
        "    return Layers_Together"
      ],
      "outputs": [],
      "execution_count": 3,
      "metadata": {}
    },
    {
      "cell_type": "code",
      "source": [
        "def Leaky_ReLu(x):\n",
        "    return np.where(x >= 0, x, x*0.2)\n",
        "\n",
        "def Leaky_ReLu_Prime(x):\n",
        "    return np.where(x >= 0, 1, 0.2)"
      ],
      "outputs": [],
      "execution_count": 4,
      "metadata": {}
    },
    {
      "cell_type": "code",
      "source": [
        "def TanH(x):\n",
        "    return 2 / (1 + np.exp(-2*x)) - 1\n",
        "def TanH_Prime(x):\n",
        "    return 1 - np.power(TanH(x), 2)\n",
        "    "
      ],
      "outputs": [],
      "execution_count": 5,
      "metadata": {}
    },
    {
      "cell_type": "code",
      "source": [
        "def Sqr_loss(y, y_pred):\n",
        "    return 0.5 * np.power((y - y_pred), 2)\n",
        "\n",
        "def Sqr_loss_Prime(y, y_pred):\n",
        "    return -(y - y_pred)"
      ],
      "outputs": [],
      "execution_count": 6,
      "metadata": {}
    },
    {
      "cell_type": "code",
      "source": [
        "def Update(w, grad): # Update with Adam Optimizer\n",
        "    b1=0.9\n",
        "    b2=0.999\n",
        "    LR=0.000010\n",
        "    eps =1e-8\n",
        "    m=np.zeros(np.shape(grad))\n",
        "    v=np.zeros(np.shape(grad))\n",
        "    mm = b1*m + (1 - b1)*grad\n",
        "    vv = b2*v + (1 - b2)*np.power(grad, 2)\n",
        "    m_hat = mm / (1 - b1)\n",
        "    v_hat = vv / (1 - b2)\n",
        "    w_updt = LR * m_hat / (np.sqrt(v_hat) + eps)\n",
        "    return w-w_updt\n",
        "    "
      ],
      "outputs": [],
      "execution_count": 7,
      "metadata": {}
    },
    {
      "cell_type": "code",
      "source": [
        "def forward(Input,Para_Layer,Activationt_type):\n",
        "    H = np.dot(Input,Para_Layer[0])+Para_Layer[1]\n",
        "    \n",
        "    if Activationt_type==1:\n",
        "        A = Leaky_ReLu(H)\n",
        "        Ad = Leaky_ReLu_Prime(H)\n",
        "    else:\n",
        "        A = TanH(H)\n",
        "        Ad = TanH_Prime(H)\n",
        "        \n",
        "    \n",
        "    HL = [A, Ad] # Here Ad is the gradient of activation\n",
        "    return HL"
      ],
      "outputs": [],
      "execution_count": 8,
      "metadata": {}
    },
    {
      "cell_type": "code",
      "source": [
        "def backpropa_of_Activated(Gradient,Gradient_activation):\n",
        "    return Gradient*Gradient_activation"
      ],
      "outputs": [],
      "execution_count": 9,
      "metadata": {}
    },
    {
      "cell_type": "code",
      "source": [
        "def backpropa_dense(Gradient,Previus_activation_layer, Current_Layer):\n",
        "    grad_W = Previus_activation_layer.T.dot(Gradient)\n",
        "    grad_bias = np.sum(Gradient,axis=0, keepdims=True)\n",
        "    W_Update = Update(Current_Layer[0], grad_W)\n",
        "    Bias_Update = Update(Current_Layer[1], grad_bias)\n",
        "    new_Layer = [W_Update,Bias_Update]\n",
        "    \n",
        "    New_Gradient = Gradient.dot(W_Update.T)\n",
        "    return New_Gradient, new_Layer"
      ],
      "outputs": [],
      "execution_count": 10,
      "metadata": {}
    },
    {
      "cell_type": "code",
      "source": [
        "input = range(1,10)\n",
        "imgs =np.array(input).reshape(1,9)"
      ],
      "outputs": [],
      "execution_count": 11,
      "metadata": {}
    },
    {
      "cell_type": "code",
      "source": [
        "L1 = Layer(imgs, 5)\n",
        "L2 = Layer(L1[0],2)\n",
        "L3 = Layer(L2[0],5)\n",
        "L4 = Layer(L3[0],np.shape(imgs)[1])\n",
        "Layers = [L1,L2,L3,L4]"
      ],
      "outputs": [],
      "execution_count": 12,
      "metadata": {}
    },
    {
      "cell_type": "code",
      "source": [
        "loss = 100\n",
        "Loss_store = []\n",
        "#epoch = 1111\n",
        "while loss>0.001:\n",
        "#for epo in range(epoch):\n",
        "    #idx = np.random.randint(0, X.shape[0], 100) # here 10 is the batch size\n",
        "    #imgs = X[idx]\n",
        "    i=0\n",
        "    keep_Latent =[]\n",
        "    for L in Layers:\n",
        "        i = i+1\n",
        "        #print('Opering Layer = ',i)\n",
        "\n",
        "        if i <=1:\n",
        "            Latent_Layer = forward(imgs,L,1)\n",
        "\n",
        "        elif i <=3:\n",
        "            Latent_Layer = forward(Latent_Layer[0],L,1)\n",
        "        else:\n",
        "            Latent_Layer = forward(Latent_Layer[0],L,1)\n",
        "\n",
        "        keep_Latent.append(Latent_Layer)\n",
        "\n",
        "    Last_Latent = keep_Latent[-1]\n",
        "    output = Last_Latent[0]\n",
        "    loss = np.mean(Sqr_loss(imgs, output)) \n",
        "    Loss_store.append(loss)\n",
        "    #print (\"%d [D loss: %f]\" % (epoch, loss))\n",
        "\n",
        "    Gradient = Sqr_loss_Prime(imgs, output)\n",
        "    gradient_1 = Gradient\n",
        "    copy_keep_Latent = copy.copy(keep_Latent)\n",
        "    copy_keep_Latent.reverse()\n",
        "\n",
        "    g=0\n",
        "    Updated_Layer = []\n",
        "    for R in reversed(Layers):\n",
        "        g=g+1 \n",
        "        #print(g)\n",
        "        Current_reversed_latent_Layer = copy_keep_Latent[g-1]\n",
        "        \n",
        "        Current_AG = Current_reversed_latent_Layer[1] # current Gradient activation fucntion\n",
        "\n",
        "        if g<=1:\n",
        "            Gradient = backpropa_of_Activated(Gradient,Current_AG)\n",
        "            gradient_2 = Gradient \n",
        "            #Gradient=Gradient+copy_gradient\n",
        "        else:\n",
        "            Gradient = backpropa_of_Activated(Gradient,Current_AG)\n",
        "            gradient_3 = Gradient\n",
        "\n",
        "        Current_Layer=R # Current weight and bias\n",
        "\n\n",
        "        if g<=3:\n",
        "            Previus_Latent_layer = copy_keep_Latent[g]\n",
        "            Previus_activation_layer = Previus_Latent_layer[0]\n",
        "\n",
        "            Gradient, new_Layer=backpropa_dense(Gradient,Previus_activation_layer, Current_Layer)\n",
        "            gradient_4 = Gradient\n",
        "        else:\n",
        "            Gradient, new_Layer=backpropa_dense(Gradient,imgs, Current_Layer)\n",
        "            gradient_5 = Gradient\n",
        "\n\n\n",
        "        Updated_Layer.append(new_Layer)\n",
        "\n",
        "        new_Weight_and_bias = copy.copy(Updated_Layer)\n",
        "        new_Weight_and_bias.reverse()\n",
        "\n",
        "        Layers = new_Weight_and_bias\n",
        "\n",
        "    #print(loss)\n",
        "output_array = np.round(Last_Latent[0][0])    \n",
        "print('The Input is',imgs[0])\n",
        "print('The Output is',output_array)\n",
        "plt.plot(Loss_store)\n",
        "plt.show()\n",
        "    \n",
        "\n"
      ],
      "outputs": [
        {
          "output_type": "stream",
          "name": "stdout",
          "text": [
            "The Input is [1 2 3 4 5 6 7 8 9]\n",
            "The Output is [1. 2. 3. 4. 5. 6. 7. 8. 9.]\n"
          ]
        },
        {
          "output_type": "display_data",
          "data": {
            "text/plain": [
              "<Figure size 432x288 with 1 Axes>"
            ],
            "image/png": "[encoded data removed]"
          },
          "metadata": {
            "needs_background": "light"
          }
        }
      ],
      "execution_count": 13,
      "metadata": {}
    },
    {
      "cell_type": "code",
      "source": [
        "loss"
      ],
      "outputs": [
        {
          "output_type": "execute_result",
          "execution_count": 14,
          "data": {
            "text/plain": [
              "0.0009911159359073335"
            ]
          },
          "metadata": {}
        }
      ],
      "execution_count": 14,
      "metadata": {}
    },
    {
      "cell_type": "code",
      "source": [],
      "outputs": [],
      "execution_count": 15,
      "metadata": {}
    }
  ],
  "metadata": {
    "kernelspec": {
      "name": "python3",
      "language": "python",
      "display_name": "Python 3"
    },
    "language_info": {
      "name": "python",
      "version": "3.6.5",
      "mimetype": "text/x-python",
      "codemirror_mode": {
        "name": "ipython",
        "version": 3
      },
      "pygments_lexer": "ipython3",
      "nbconvert_exporter": "python",
      "file_extension": ".py"
    },
    "kernel_info": {
      "name": "python3"
    },
    "nteract": {
      "version": "0.11.9"
    }
  },
  "nbformat": 4,
  "nbformat_minor": 2
}